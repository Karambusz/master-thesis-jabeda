{
 "cells": [
  {
   "cell_type": "code",
   "execution_count": 9,
   "id": "de6ceaa1",
   "metadata": {},
   "outputs": [
    {
     "data": {
      "text/plain": [
       "['test_0.jpg',\n",
       " 'trash_100.jpg',\n",
       " 'trash_101.jpg',\n",
       " 'trash_90.jpg',\n",
       " 'trash_94.jpg',\n",
       " 'trash_95.jpg',\n",
       " 'trash_96.jpg',\n",
       " 'trash_97.jpg',\n",
       " 'trash_98.jpg',\n",
       " 'trash_99.jpg',\n",
       " 'trash_test_84.jpg']"
      ]
     },
     "execution_count": 9,
     "metadata": {},
     "output_type": "execute_result"
    }
   ],
   "source": [
    "import os\n",
    "os.listdir('./data/test')"
   ]
  },
  {
   "cell_type": "code",
   "execution_count": 42,
   "id": "cf9e35de",
   "metadata": {},
   "outputs": [
    {
     "name": "stdout",
     "output_type": "stream",
     "text": [
      "Fusing layers... "
     ]
    },
    {
     "name": "stderr",
     "output_type": "stream",
     "text": [
      "YOLOR  b77179b torch 1.11.0+cu113 CPU\n",
      "\n",
      "C:\\Users\\cni4k\\anaconda3\\envs\\yolov7_master_thesis\\lib\\site-packages\\torch\\functional.py:568: UserWarning: torch.meshgrid: in an upcoming release, it will be required to pass the indexing argument. (Triggered internally at  C:\\actions-runner\\_work\\pytorch\\pytorch\\builder\\windows\\pytorch\\aten\\src\\ATen\\native\\TensorShape.cpp:2228.)\n",
      "  return _VF.meshgrid(tensors, **kwargs)  # type: ignore[attr-defined]\n",
      "Model Summary: 314 layers, 36481772 parameters, 6194944 gradients, 103.2 GFLOPS\n"
     ]
    },
    {
     "name": "stdout",
     "output_type": "stream",
     "text": [
      "\n",
      "RepConv.fuse_repvgg_block\n",
      "RepConv.fuse_repvgg_block\n",
      "RepConv.fuse_repvgg_block\n",
      "IDetect.fuse\n",
      "1 Garbage and segregation, Done. (1200.1ms) Inference, (1.0ms) NMS\n",
      " The image with the result is saved in: runs\\detect\\exp\\trash_94.jpg\n",
      "Done. (1.300s)\n"
     ]
    }
   ],
   "source": [
    "!python detect.py --weights best_1.pt --conf 0.4 --img-size 640 --source data/test/trash_94.jpg --no-trace --exist-ok --device cpu"
   ]
  },
  {
   "cell_type": "code",
   "execution_count": 2,
   "id": "99eaea33",
   "metadata": {},
   "outputs": [
    {
     "name": "stdout",
     "output_type": "stream",
     "text": [
      "Namespace(weights=['best_1.pt'], source='data/test/trash_100.jpg', img_size=640, conf_thres=0.2, iou_thres=0.45, device='cpu', view_img=False, save_txt=False, save_conf=False, nosave=False, classes=None, agnostic_nms=False, augment=False, update=False, project='runs/detect', name='exp', exist_ok=True, no_trace=True)\n",
      "Fusing layers... \n",
      "RepConv.fuse_repvgg_block\n",
      "RepConv.fuse_repvgg_block\n",
      "RepConv.fuse_repvgg_block\n",
      "IDetect.fuse\n",
      "2 Garbage and segregations, Done. (1174.1ms) Inference, (1.0ms) NMS\n",
      " The image with the result is saved in: runs\\detect\\exp\\trash_100.jpg\n",
      "Done. (1.272s)\n"
     ]
    },
    {
     "name": "stderr",
     "output_type": "stream",
     "text": [
      "YOLOR  b77179b torch 1.11.0+cu113 CPU\n",
      "\n",
      "C:\\Users\\cni4k\\anaconda3\\envs\\yolov7_master_thesis\\lib\\site-packages\\torch\\functional.py:568: UserWarning: torch.meshgrid: in an upcoming release, it will be required to pass the indexing argument. (Triggered internally at  C:\\actions-runner\\_work\\pytorch\\pytorch\\builder\\windows\\pytorch\\aten\\src\\ATen\\native\\TensorShape.cpp:2228.)\n",
      "  return _VF.meshgrid(tensors, **kwargs)  # type: ignore[attr-defined]\n",
      "Model Summary: 314 layers, 36481772 parameters, 6194944 gradients, 103.2 GFLOPS\n"
     ]
    },
    {
     "name": "stdout",
     "output_type": "stream",
     "text": [
      "Namespace(weights=['best_1.pt'], source='data/test/trash_101.jpg', img_size=640, conf_thres=0.2, iou_thres=0.45, device='cpu', view_img=False, save_txt=False, save_conf=False, nosave=False, classes=None, agnostic_nms=False, augment=False, update=False, project='runs/detect', name='exp', exist_ok=True, no_trace=True)\n",
      "Fusing layers... \n",
      "RepConv.fuse_repvgg_block\n",
      "RepConv.fuse_repvgg_block\n",
      "RepConv.fuse_repvgg_block\n",
      "IDetect.fuse\n",
      "2 Garbage and segregations, Done. (1207.1ms) Inference, (1.0ms) NMS\n",
      " The image with the result is saved in: runs\\detect\\exp\\trash_101.jpg\n",
      "Done. (1.316s)\n"
     ]
    },
    {
     "name": "stderr",
     "output_type": "stream",
     "text": [
      "YOLOR  b77179b torch 1.11.0+cu113 CPU\n",
      "\n",
      "C:\\Users\\cni4k\\anaconda3\\envs\\yolov7_master_thesis\\lib\\site-packages\\torch\\functional.py:568: UserWarning: torch.meshgrid: in an upcoming release, it will be required to pass the indexing argument. (Triggered internally at  C:\\actions-runner\\_work\\pytorch\\pytorch\\builder\\windows\\pytorch\\aten\\src\\ATen\\native\\TensorShape.cpp:2228.)\n",
      "  return _VF.meshgrid(tensors, **kwargs)  # type: ignore[attr-defined]\n",
      "Model Summary: 314 layers, 36481772 parameters, 6194944 gradients, 103.2 GFLOPS\n"
     ]
    },
    {
     "name": "stdout",
     "output_type": "stream",
     "text": [
      "Namespace(weights=['best_1.pt'], source='data/test/trash_90.jpg', img_size=640, conf_thres=0.2, iou_thres=0.45, device='cpu', view_img=False, save_txt=False, save_conf=False, nosave=False, classes=None, agnostic_nms=False, augment=False, update=False, project='runs/detect', name='exp', exist_ok=True, no_trace=True)\n",
      "Fusing layers... \n",
      "RepConv.fuse_repvgg_block\n",
      "RepConv.fuse_repvgg_block\n",
      "RepConv.fuse_repvgg_block\n",
      "IDetect.fuse\n",
      "4 Garbage and segregations, Done. (1147.1ms) Inference, (1.0ms) NMS\n",
      " The image with the result is saved in: runs\\detect\\exp\\trash_90.jpg\n",
      "Done. (1.243s)\n"
     ]
    },
    {
     "name": "stderr",
     "output_type": "stream",
     "text": [
      "YOLOR  b77179b torch 1.11.0+cu113 CPU\n",
      "\n",
      "C:\\Users\\cni4k\\anaconda3\\envs\\yolov7_master_thesis\\lib\\site-packages\\torch\\functional.py:568: UserWarning: torch.meshgrid: in an upcoming release, it will be required to pass the indexing argument. (Triggered internally at  C:\\actions-runner\\_work\\pytorch\\pytorch\\builder\\windows\\pytorch\\aten\\src\\ATen\\native\\TensorShape.cpp:2228.)\n",
      "  return _VF.meshgrid(tensors, **kwargs)  # type: ignore[attr-defined]\n",
      "Model Summary: 314 layers, 36481772 parameters, 6194944 gradients, 103.2 GFLOPS\n"
     ]
    },
    {
     "name": "stdout",
     "output_type": "stream",
     "text": [
      "Namespace(weights=['best_1.pt'], source='data/test/trash_94.jpg', img_size=640, conf_thres=0.2, iou_thres=0.45, device='cpu', view_img=False, save_txt=False, save_conf=False, nosave=False, classes=None, agnostic_nms=False, augment=False, update=False, project='runs/detect', name='exp', exist_ok=True, no_trace=True)\n",
      "Fusing layers... \n",
      "RepConv.fuse_repvgg_block\n",
      "RepConv.fuse_repvgg_block\n",
      "RepConv.fuse_repvgg_block\n",
      "IDetect.fuse\n",
      "2 Garbage and segregations, Done. (1152.1ms) Inference, (1.0ms) NMS\n",
      " The image with the result is saved in: runs\\detect\\exp\\trash_94.jpg\n",
      "Done. (1.259s)\n"
     ]
    },
    {
     "name": "stderr",
     "output_type": "stream",
     "text": [
      "YOLOR  b77179b torch 1.11.0+cu113 CPU\n",
      "\n",
      "C:\\Users\\cni4k\\anaconda3\\envs\\yolov7_master_thesis\\lib\\site-packages\\torch\\functional.py:568: UserWarning: torch.meshgrid: in an upcoming release, it will be required to pass the indexing argument. (Triggered internally at  C:\\actions-runner\\_work\\pytorch\\pytorch\\builder\\windows\\pytorch\\aten\\src\\ATen\\native\\TensorShape.cpp:2228.)\n",
      "  return _VF.meshgrid(tensors, **kwargs)  # type: ignore[attr-defined]\n",
      "Model Summary: 314 layers, 36481772 parameters, 6194944 gradients, 103.2 GFLOPS\n"
     ]
    },
    {
     "name": "stdout",
     "output_type": "stream",
     "text": [
      "Namespace(weights=['best_1.pt'], source='data/test/trash_95.jpg', img_size=640, conf_thres=0.2, iou_thres=0.45, device='cpu', view_img=False, save_txt=False, save_conf=False, nosave=False, classes=None, agnostic_nms=False, augment=False, update=False, project='runs/detect', name='exp', exist_ok=True, no_trace=True)\n",
      "Fusing layers... \n",
      "RepConv.fuse_repvgg_block\n",
      "RepConv.fuse_repvgg_block\n",
      "RepConv.fuse_repvgg_block\n",
      "IDetect.fuse\n",
      "2 Garbage and segregations, Done. (1170.1ms) Inference, (1.0ms) NMS\n",
      " The image with the result is saved in: runs\\detect\\exp\\trash_95.jpg\n",
      "Done. (1.277s)\n"
     ]
    },
    {
     "name": "stderr",
     "output_type": "stream",
     "text": [
      "YOLOR  b77179b torch 1.11.0+cu113 CPU\n",
      "\n",
      "C:\\Users\\cni4k\\anaconda3\\envs\\yolov7_master_thesis\\lib\\site-packages\\torch\\functional.py:568: UserWarning: torch.meshgrid: in an upcoming release, it will be required to pass the indexing argument. (Triggered internally at  C:\\actions-runner\\_work\\pytorch\\pytorch\\builder\\windows\\pytorch\\aten\\src\\ATen\\native\\TensorShape.cpp:2228.)\n",
      "  return _VF.meshgrid(tensors, **kwargs)  # type: ignore[attr-defined]\n",
      "Model Summary: 314 layers, 36481772 parameters, 6194944 gradients, 103.2 GFLOPS\n"
     ]
    },
    {
     "name": "stdout",
     "output_type": "stream",
     "text": [
      "Namespace(weights=['best_1.pt'], source='data/test/trash_96.jpg', img_size=640, conf_thres=0.2, iou_thres=0.45, device='cpu', view_img=False, save_txt=False, save_conf=False, nosave=False, classes=None, agnostic_nms=False, augment=False, update=False, project='runs/detect', name='exp', exist_ok=True, no_trace=True)"
     ]
    },
    {
     "name": "stderr",
     "output_type": "stream",
     "text": [
      "YOLOR  b77179b torch 1.11.0+cu113 CPU\n",
      "\n",
      "C:\\Users\\cni4k\\anaconda3\\envs\\yolov7_master_thesis\\lib\\site-packages\\torch\\functional.py:568: UserWarning: torch.meshgrid: in an upcoming release, it will be required to pass the indexing argument. (Triggered internally at  C:\\actions-runner\\_work\\pytorch\\pytorch\\builder\\windows\\pytorch\\aten\\src\\ATen\\native\\TensorShape.cpp:2228.)\n",
      "  return _VF.meshgrid(tensors, **kwargs)  # type: ignore[attr-defined]\n",
      "Model Summary: 314 layers, 36481772 parameters, 6194944 gradients, 103.2 GFLOPS\n"
     ]
    },
    {
     "name": "stdout",
     "output_type": "stream",
     "text": [
      "\n",
      "Fusing layers... \n",
      "RepConv.fuse_repvgg_block\n",
      "RepConv.fuse_repvgg_block\n",
      "RepConv.fuse_repvgg_block\n",
      "IDetect.fuse\n",
      "2 Garbage and segregations, Done. (1179.1ms) Inference, (1.0ms) NMS\n",
      " The image with the result is saved in: runs\\detect\\exp\\trash_96.jpg\n",
      "Done. (1.273s)\n",
      "Namespace(weights=['best_1.pt'], source='data/test/trash_97.jpg', img_size=640, conf_thres=0.2, iou_thres=0.45, device='cpu', view_img=False, save_txt=False, save_conf=False, nosave=False, classes=None, agnostic_nms=False, augment=False, update=False, project='runs/detect', name='exp', exist_ok=True, no_trace=True)\n",
      "Fusing layers... \n",
      "RepConv.fuse_repvgg_block\n",
      "RepConv.fuse_repvgg_block\n",
      "RepConv.fuse_repvgg_block\n",
      "IDetect.fuse\n",
      "2 Garbage and segregations, Done. (1167.1ms) Inference, (1.0ms) NMS\n",
      " The image with the result is saved in: runs\\detect\\exp\\trash_97.jpg\n",
      "Done. (1.264s)\n"
     ]
    },
    {
     "name": "stderr",
     "output_type": "stream",
     "text": [
      "YOLOR  b77179b torch 1.11.0+cu113 CPU\n",
      "\n",
      "C:\\Users\\cni4k\\anaconda3\\envs\\yolov7_master_thesis\\lib\\site-packages\\torch\\functional.py:568: UserWarning: torch.meshgrid: in an upcoming release, it will be required to pass the indexing argument. (Triggered internally at  C:\\actions-runner\\_work\\pytorch\\pytorch\\builder\\windows\\pytorch\\aten\\src\\ATen\\native\\TensorShape.cpp:2228.)\n",
      "  return _VF.meshgrid(tensors, **kwargs)  # type: ignore[attr-defined]\n",
      "Model Summary: 314 layers, 36481772 parameters, 6194944 gradients, 103.2 GFLOPS\n"
     ]
    },
    {
     "name": "stdout",
     "output_type": "stream",
     "text": [
      "Namespace(weights=['best_1.pt'], source='data/test/trash_98.jpg', img_size=640, conf_thres=0.2, iou_thres=0.45, device='cpu', view_img=False, save_txt=False, save_conf=False, nosave=False, classes=None, agnostic_nms=False, augment=False, update=False, project='runs/detect', name='exp', exist_ok=True, no_trace=True)\n",
      "Fusing layers... \n",
      "RepConv.fuse_repvgg_block\n",
      "RepConv.fuse_repvgg_block\n",
      "RepConv.fuse_repvgg_block\n",
      "IDetect.fuse\n",
      "1 Garbage and segregation, Done. (1250.1ms) Inference, (1.0ms) NMS\n",
      " The image with the result is saved in: runs\\detect\\exp\\trash_98.jpg\n",
      "Done. (1.356s)\n"
     ]
    },
    {
     "name": "stderr",
     "output_type": "stream",
     "text": [
      "YOLOR  b77179b torch 1.11.0+cu113 CPU\n",
      "\n",
      "C:\\Users\\cni4k\\anaconda3\\envs\\yolov7_master_thesis\\lib\\site-packages\\torch\\functional.py:568: UserWarning: torch.meshgrid: in an upcoming release, it will be required to pass the indexing argument. (Triggered internally at  C:\\actions-runner\\_work\\pytorch\\pytorch\\builder\\windows\\pytorch\\aten\\src\\ATen\\native\\TensorShape.cpp:2228.)\n",
      "  return _VF.meshgrid(tensors, **kwargs)  # type: ignore[attr-defined]\n",
      "Model Summary: 314 layers, 36481772 parameters, 6194944 gradients, 103.2 GFLOPS\n"
     ]
    },
    {
     "name": "stdout",
     "output_type": "stream",
     "text": [
      "Namespace(weights=['best_1.pt'], source='data/test/trash_99.jpg', img_size=640, conf_thres=0.2, iou_thres=0.45, device='cpu', view_img=False, save_txt=False, save_conf=False, nosave=False, classes=None, agnostic_nms=False, augment=False, update=False, project='runs/detect', name='exp', exist_ok=True, no_trace=True)\n",
      "Fusing layers... \n",
      "RepConv.fuse_repvgg_block\n",
      "RepConv.fuse_repvgg_block\n",
      "RepConv.fuse_repvgg_block\n",
      "IDetect.fuse\n",
      "1 Garbage and segregation, Done. (1214.1ms) Inference, (1.0ms) NMS\n",
      " The image with the result is saved in: runs\\detect\\exp\\trash_99.jpg\n",
      "Done. (1.304s)\n"
     ]
    },
    {
     "name": "stderr",
     "output_type": "stream",
     "text": [
      "YOLOR  b77179b torch 1.11.0+cu113 CPU\n",
      "\n",
      "C:\\Users\\cni4k\\anaconda3\\envs\\yolov7_master_thesis\\lib\\site-packages\\torch\\functional.py:568: UserWarning: torch.meshgrid: in an upcoming release, it will be required to pass the indexing argument. (Triggered internally at  C:\\actions-runner\\_work\\pytorch\\pytorch\\builder\\windows\\pytorch\\aten\\src\\ATen\\native\\TensorShape.cpp:2228.)\n",
      "  return _VF.meshgrid(tensors, **kwargs)  # type: ignore[attr-defined]\n",
      "Model Summary: 314 layers, 36481772 parameters, 6194944 gradients, 103.2 GFLOPS\n"
     ]
    },
    {
     "name": "stdout",
     "output_type": "stream",
     "text": [
      "Namespace(weights=['best_1.pt'], source='data/test/trash_test_84.jpg', img_size=640, conf_thres=0.2, iou_thres=0.45, device='cpu', view_img=False, save_txt=False, save_conf=False, nosave=False, classes=None, agnostic_nms=False, augment=False, update=False, project='runs/detect', name='exp', exist_ok=True, no_trace=True)"
     ]
    },
    {
     "name": "stderr",
     "output_type": "stream",
     "text": [
      "YOLOR  b77179b torch 1.11.0+cu113 CPU\n",
      "\n",
      "C:\\Users\\cni4k\\anaconda3\\envs\\yolov7_master_thesis\\lib\\site-packages\\torch\\functional.py:568: UserWarning: torch.meshgrid: in an upcoming release, it will be required to pass the indexing argument. (Triggered internally at  C:\\actions-runner\\_work\\pytorch\\pytorch\\builder\\windows\\pytorch\\aten\\src\\ATen\\native\\TensorShape.cpp:2228.)\n",
      "  return _VF.meshgrid(tensors, **kwargs)  # type: ignore[attr-defined]\n",
      "Model Summary: 314 layers, 36481772 parameters, 6194944 gradients, 103.2 GFLOPS\n"
     ]
    },
    {
     "name": "stdout",
     "output_type": "stream",
     "text": [
      "\n",
      "Fusing layers... \n",
      "RepConv.fuse_repvgg_block\n",
      "RepConv.fuse_repvgg_block\n",
      "RepConv.fuse_repvgg_block\n",
      "IDetect.fuse\n",
      "2 Garbage and segregations, Done. (959.1ms) Inference, (1.0ms) NMS\n",
      " The image with the result is saved in: runs\\detect\\exp\\trash_test_84.jpg\n",
      "Done. (1.054s)\n"
     ]
    }
   ],
   "source": [
    "for test_image in os.listdir('./data/test'):\n",
    "  !python detect.py --weights best_1.pt --conf 0.4 --img-size 640 --source data/test/$test_image --no-trace --exist-ok --device cpu"
   ]
  },
  {
   "cell_type": "code",
   "execution_count": null,
   "id": "e01e86b8",
   "metadata": {},
   "outputs": [],
   "source": []
  }
 ],
 "metadata": {
  "kernelspec": {
   "display_name": "Python 3 (ipykernel)",
   "language": "python",
   "name": "python3"
  },
  "language_info": {
   "codemirror_mode": {
    "name": "ipython",
    "version": 3
   },
   "file_extension": ".py",
   "mimetype": "text/x-python",
   "name": "python",
   "nbconvert_exporter": "python",
   "pygments_lexer": "ipython3",
   "version": "3.8.7"
  }
 },
 "nbformat": 4,
 "nbformat_minor": 5
}
